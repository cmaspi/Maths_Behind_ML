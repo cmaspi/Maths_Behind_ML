{
 "cells": [
  {
   "cell_type": "code",
   "execution_count": 1,
   "id": "9d3ad4d2-2713-44eb-a5a3-6f02f5f4e8a3",
   "metadata": {},
   "outputs": [],
   "source": [
    "import numpy as np\n",
    "import matplotlib.pyplot as plt"
   ]
  },
  {
   "cell_type": "markdown",
   "id": "b49dad40-20c2-4692-88dd-aa49676b6a94",
   "metadata": {},
   "source": [
    "# Problem-1"
   ]
  },
  {
   "cell_type": "code",
   "execution_count": 2,
   "id": "c6e2ac9b",
   "metadata": {},
   "outputs": [],
   "source": [
    "N = 1000\n",
    "lr = 0.02"
   ]
  },
  {
   "cell_type": "markdown",
   "id": "3e866b57",
   "metadata": {},
   "source": [
    "### Part-a"
   ]
  },
  {
   "cell_type": "code",
   "execution_count": 3,
   "id": "730c56df",
   "metadata": {},
   "outputs": [
    {
     "name": "stdout",
     "output_type": "stream",
     "text": [
      "x obtained after 1000 iterations = [0.00021397 0.00011874 0.00026681]\n",
      "The function value at optimal x: 1.000\n"
     ]
    }
   ],
   "source": [
    "A = np.array([\n",
    "    [2, -1, -1],\n",
    "    [-1, 2, 0],\n",
    "    [-1, 0, 1]\n",
    "])\n",
    "b = 1\n",
    "\n",
    "def func_1a(x):\n",
    "    return x.T@A@x + b\n",
    "\n",
    "def grad_func_1a(x):\n",
    "    return (A+A.T)@x\n",
    "\n",
    "x0 = np.random.rand(3)\n",
    "x = x0\n",
    "for itr in range(N):\n",
    "    delta_x = -lr*grad_func_1a(x)\n",
    "    x += delta_x\n",
    "\n",
    "print(f'x obtained after {N} iterations = {x}')\n",
    "print(f'The function value at optimal x: {func_1a(x):.3f}')"
   ]
  },
  {
   "cell_type": "markdown",
   "id": "9feef123",
   "metadata": {},
   "source": [
    "The gradient is given as\n",
    "$$\\nabla f(x) = (A+A^T)x$$\n",
    "It will be zero at $x=0$ (trivially). The matrix $A$ is also PD(eigen values > 0, shown below), so the solution is global optima."
   ]
  },
  {
   "cell_type": "code",
   "execution_count": 4,
   "id": "9fb62d7c",
   "metadata": {},
   "outputs": [
    {
     "name": "stdout",
     "output_type": "stream",
     "text": [
      "The eigen values are given as [0.19806226 1.55495813 3.2469796 ]\n"
     ]
    }
   ],
   "source": [
    "print(f'The eigen values are given as {np.linalg.eigh(A)[0]}')"
   ]
  },
  {
   "cell_type": "markdown",
   "id": "6d118d8e",
   "metadata": {},
   "source": [
    "### Part-b"
   ]
  },
  {
   "cell_type": "code",
   "execution_count": 5,
   "id": "3d761869",
   "metadata": {},
   "outputs": [
    {
     "name": "stdout",
     "output_type": "stream",
     "text": [
      "x obtained after 1000 iterations = [0.12 0.64]\n",
      "The function value at optimal x: 0.200\n"
     ]
    }
   ],
   "source": [
    "A = np.array([\n",
    "    [1, 2],\n",
    "    [2, 4],\n",
    "    [3, 1]\n",
    "])\n",
    "b = np.array([1, 3, 1])\n",
    "\n",
    "def func_1b(x):\n",
    "    \"\"\"\n",
    "    same as x.T A.T A x - 2b.T A x + b.T b\n",
    "    \"\"\"\n",
    "    vec = A@x - b\n",
    "    return np.linalg.norm(vec)**2\n",
    "\n",
    "\n",
    "def grad_func_1b(x):\n",
    "    return 2*(A.T@A@x - A.T@b)\n",
    "\n",
    "\n",
    "x0 = np.random.rand(2)\n",
    "x = x0\n",
    "\n",
    "for itr in range(N):\n",
    "    delta_x = -lr*grad_func_1b(x)\n",
    "    x += delta_x\n",
    "\n",
    "print(f'x obtained after {N} iterations = {x}')\n",
    "print(f'The function value at optimal x: {func_1b(x):.3f}')"
   ]
  },
  {
   "cell_type": "markdown",
   "id": "a02d68e8",
   "metadata": {},
   "source": [
    "The gradient is\n",
    "$$\\nabla f(x) = 2(AA^Tx-A^Tb)$$\n",
    "\n",
    "Setting gradient to $0$ gives us\n",
    "\n",
    "$$x = (A^TA)^{-1}A^Tb$$\n",
    "\n",
    "The hessian is a gram matrix which means it is PSD, so the solution obtained would be global optima."
   ]
  },
  {
   "cell_type": "code",
   "execution_count": 6,
   "id": "1ce76ac5",
   "metadata": {},
   "outputs": [
    {
     "name": "stdout",
     "output_type": "stream",
     "text": [
      "The solution obtained using setting gradient to 0 gives us: x=[0.12 0.64]\n"
     ]
    }
   ],
   "source": [
    "x = np.linalg.inv(A.T@A)@A.T@b\n",
    "print(f'The solution obtained using setting gradient to 0 gives us: x={x}')"
   ]
  },
  {
   "cell_type": "markdown",
   "id": "45cedf93",
   "metadata": {},
   "source": [
    "### Part-c"
   ]
  },
  {
   "cell_type": "code",
   "execution_count": 7,
   "id": "7cdc53eb",
   "metadata": {},
   "outputs": [
    {
     "name": "stdout",
     "output_type": "stream",
     "text": [
      "x obtained after 1000 iterations = [0.05744939 0.65686105 0.33915902]\n",
      "The function value at optimal x: 56.990\n"
     ]
    }
   ],
   "source": [
    "# Note that I had to decrease the learning rate (by factor of 0.1) for convergence\n",
    "\n",
    "A = np.array([\n",
    "    [1, 2, 1],\n",
    "    [2, 4, 2],\n",
    "    [3, 1, 9],\n",
    "    [4, 1, 0],\n",
    "    [2, 1, 4]\n",
    "])\n",
    "b = np.array([1, 3, 1, 0, 9])\n",
    "\n",
    "def func_1c(x):\n",
    "    \"\"\"\n",
    "    same as x.T A.T A x - 2b.T A x + b.T b\n",
    "    \"\"\"\n",
    "    vec = A@x - b\n",
    "    return np.linalg.norm(vec)**2\n",
    "\n",
    "\n",
    "def grad_func_1c(x):\n",
    "    return 2*(A.T@A@x - A.T@b)\n",
    "\n",
    "\n",
    "x0 = np.random.rand(3)\n",
    "x = x0\n",
    "lr *= 0.1\n",
    "\n",
    "for itr in range(N):\n",
    "    delta_x = -lr*grad_func_1b(x)\n",
    "    x += delta_x\n",
    "\n",
    "print(f'x obtained after {N} iterations = {x}')\n",
    "print(f'The function value at optimal x: {func_1c(x):.3f}')"
   ]
  },
  {
   "cell_type": "markdown",
   "id": "7f94ec00",
   "metadata": {},
   "source": [
    "The gradient is\n",
    "$$\\nabla f(x) = 2(AA^Tx-A^Tb)$$\n",
    "\n",
    "Setting gradient to $0$ gives us\n",
    "\n",
    "$$x = (A^TA)^{-1}A^Tb$$\n",
    "\n",
    "The hessian is a gram matrix which means it is PSD, so the solution obtained would be global optima."
   ]
  },
  {
   "cell_type": "code",
   "execution_count": 8,
   "id": "3a44b58a",
   "metadata": {},
   "outputs": [
    {
     "name": "stdout",
     "output_type": "stream",
     "text": [
      "The solution obtained using setting gradient to 0 gives us: x=[0.05744939 0.65686105 0.33915902]\n"
     ]
    }
   ],
   "source": [
    "x = np.linalg.inv(A.T@A)@A.T@b\n",
    "print(f'The solution obtained using setting gradient to 0 gives us: x={x}')"
   ]
  },
  {
   "cell_type": "markdown",
   "id": "e5e7979f",
   "metadata": {},
   "source": [
    "# Problem-2"
   ]
  },
  {
   "cell_type": "code",
   "execution_count": 9,
   "id": "3fd8f85f",
   "metadata": {},
   "outputs": [],
   "source": [
    "from sklearn.datasets import make_spd_matrix\n",
    "\n",
    "A = make_spd_matrix(10)\n",
    "b = np.random.rand(10)\n",
    "c = np.random.rand()"
   ]
  },
  {
   "cell_type": "markdown",
   "id": "94df240e",
   "metadata": {},
   "source": [
    "The gradient is given by\n",
    "$$(A+A^T)x-2b$$\n",
    "Since $A$ is symmetric, positive definite because we used `make_spd_matrix` method that generates **symmetric** PD matrix, we can write the above as\n",
    "$$2(Ax-b)$$"
   ]
  },
  {
   "cell_type": "markdown",
   "id": "01dc84e8",
   "metadata": {},
   "source": [
    "### Part-a"
   ]
  },
  {
   "cell_type": "code",
   "execution_count": 10,
   "id": "6744b7f9",
   "metadata": {},
   "outputs": [],
   "source": [
    "def func_2(x):\n",
    "    return x.T@A@x - 2*b.T@x + c"
   ]
  },
  {
   "cell_type": "code",
   "execution_count": 11,
   "id": "7c2211d5",
   "metadata": {},
   "outputs": [
    {
     "name": "stdout",
     "output_type": "stream",
     "text": [
      "The minima occurs at x=[1.3923175  1.38211218 1.50301102 1.97047876 1.69594029 0.86316688\n",
      " 0.89764752 0.74839891 1.07504735 2.56628872]\n",
      "The function value at optimal x: -6.312\n"
     ]
    }
   ],
   "source": [
    "optimal_x = np.linalg.inv(A)@b\n",
    "print(f'The minima occurs at x={optimal_x}')\n",
    "print(f'The function value at optimal x: {func_2(optimal_x):.3f}')"
   ]
  },
  {
   "cell_type": "markdown",
   "id": "676319b9",
   "metadata": {},
   "source": [
    "Note that Positive definite matrices are always invertible."
   ]
  },
  {
   "cell_type": "markdown",
   "id": "d1b3eade",
   "metadata": {},
   "source": [
    "### Part-b"
   ]
  },
  {
   "cell_type": "code",
   "execution_count": 12,
   "id": "153ecb83",
   "metadata": {},
   "outputs": [
    {
     "name": "stdout",
     "output_type": "stream",
     "text": [
      "[array([0.1, 0.1, 0.1, 0.1, 0.1, 0.1, 0.1, 0.1, 0.1, 0.1])]\n",
      "x obtained after 1000 iterations = [1.39231746 1.38211213 1.50301113 1.97047874 1.69594039 0.86316669\n",
      " 0.89764737 0.74839893 1.07504732 2.56628875]\n",
      "The function value at optimal x: -6.312\n"
     ]
    }
   ],
   "source": [
    "x0 = np.ones(10)/10 # initializing at 1/10\n",
    "x = x0\n",
    "spec_norm_A = np.linalg.norm(A, ord=2)\n",
    "norm_b = np.linalg.norm(b)\n",
    "lr = 1/(2*spec_norm_A+norm_b)\n",
    "\n",
    "N = 1_000\n",
    "x_vals = [x0.copy()]\n",
    "print(x_vals)\n",
    "def func_2b(x):\n",
    "    return x.T@A@x-2*b.T@x+c\n",
    "\n",
    "def grad_func_2b(x):\n",
    "    return 2*(A@x-b)\n",
    "\n",
    "for itr in range(N):\n",
    "    delta_x = -lr*grad_func_2b(x)\n",
    "    x += delta_x\n",
    "    x_vals.append(x.copy())\n",
    "\n",
    "print(f'x obtained after {N} iterations = {x}')\n",
    "print(f'The function value at optimal x: {func_2(x):.3f}')\n"
   ]
  },
  {
   "cell_type": "code",
   "execution_count": 13,
   "id": "56d47dd9",
   "metadata": {},
   "outputs": [
    {
     "data": {
      "image/png": "[encoded data removed]",
      "text/plain": [
       "<Figure size 640x480 with 1 Axes>"
      ]
     },
     "metadata": {},
     "output_type": "display_data"
    }
   ],
   "source": [
    "import seaborn as sns\n",
    "\n",
    "sns.set()\n",
    "plt.plot(np.arange(N+1), [func_2b(i) for i in x_vals], color='black', label='objective val at nth iteration')\n",
    "plt.plot([0, 1000], (func_2b(optimal_x), )*2, label='optimal x', color='red', linestyle='dashed')\n",
    "plt.xlabel('iterations')\n",
    "plt.ylabel('objective value')\n",
    "plt.legend()\n",
    "plt.show()\n"
   ]
  },
  {
   "cell_type": "code",
   "execution_count": null,
   "id": "06cd0033",
   "metadata": {},
   "outputs": [],
   "source": []
  }
 ],
 "metadata": {
  "kernelspec": {
   "display_name": "Python 3 (Spyder)",
   "language": "python3",
   "name": "python3"
  },
  "language_info": {
   "codemirror_mode": {
    "name": "ipython",
    "version": 3
   },
   "file_extension": ".py",
   "mimetype": "text/x-python",
   "name": "python",
   "nbconvert_exporter": "python",
   "pygments_lexer": "ipython3",
   "version": "3.10.12"
  }
 },
 "nbformat": 4,
 "nbformat_minor": 5
}
