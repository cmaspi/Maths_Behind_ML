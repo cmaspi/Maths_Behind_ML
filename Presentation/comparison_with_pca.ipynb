{
 "cells": [
  {
   "cell_type": "code",
   "execution_count": 1,
   "metadata": {
    "ExecuteTime": {
     "end_time": "2023-11-14T04:26:28.041876006Z",
     "start_time": "2023-11-14T04:26:28.039110143Z"
    }
   },
   "outputs": [],
   "source": [
    "import numpy as np\n",
    "import matplotlib.pyplot as plt\n",
    "import seaborn as sns\n",
    "from ppca import PPCA"
   ]
  },
  {
   "cell_type": "code",
   "execution_count": 2,
   "metadata": {
    "ExecuteTime": {
     "end_time": "2023-11-14T04:26:28.061049602Z",
     "start_time": "2023-11-14T04:26:28.044773933Z"
    }
   },
   "outputs": [],
   "source": [
    "from scipy import linalg\n",
    "\n",
    "n_samples, n_features, rank = 500, 25, 5\n",
    "sigma = 1.0\n",
    "rng = np.random.RandomState(42)\n",
    "U, _, _ = linalg.svd(rng.randn(n_features, n_features))\n",
    "X = np.dot(rng.randn(n_samples, rank), U[:, :rank].T)\n",
    "\n",
    "# Adding homoscedastic noise\n",
    "X_homo = X + sigma * rng.randn(n_samples, n_features)"
   ]
  },
  {
   "cell_type": "code",
   "execution_count": 3,
   "metadata": {
    "ExecuteTime": {
     "end_time": "2023-11-14T04:26:28.105936281Z",
     "start_time": "2023-11-14T04:26:28.063282392Z"
    }
   },
   "outputs": [],
   "source": [
    "n_components = 10\n",
    "\n",
    "ppca_model = PPCA(n_components=n_components)\n",
    "latent = ppca_model.fit_transform(X_homo)\n",
    "reconstructed = ppca_model.inverse_transform_optimal(latent)"
   ]
  },
  {
   "cell_type": "code",
   "execution_count": 4,
   "metadata": {
    "ExecuteTime": {
     "end_time": "2023-11-14T04:26:28.193635802Z",
     "start_time": "2023-11-14T04:26:28.105700578Z"
    }
   },
   "outputs": [
    {
     "data": {
      "text/plain": "0.4887384606865771"
     },
     "execution_count": 4,
     "metadata": {},
     "output_type": "execute_result"
    }
   ],
   "source": [
    "from sklearn.metrics import mean_squared_error\n",
    "\n",
    "mean_squared_error(X, reconstructed)"
   ]
  },
  {
   "cell_type": "code",
   "execution_count": 5,
   "metadata": {
    "ExecuteTime": {
     "end_time": "2023-11-14T04:26:28.298764575Z",
     "start_time": "2023-11-14T04:26:28.192878269Z"
    }
   },
   "outputs": [
    {
     "data": {
      "text/plain": "0.4912642696733316"
     },
     "execution_count": 5,
     "metadata": {},
     "output_type": "execute_result"
    }
   ],
   "source": [
    "\n",
    "from sklearn.decomposition import PCA\n",
    "\n",
    "pca_model = PCA(n_components=n_components)\n",
    "latent = pca_model.fit_transform(X_homo)\n",
    "reconstructed = pca_model.inverse_transform(latent)\n",
    "\n",
    "mean_squared_error(X, reconstructed)"
   ]
  }
 ],
 "metadata": {
  "kernelspec": {
   "display_name": "Python 3",
   "language": "python",
   "name": "python3"
  },
  "language_info": {
   "codemirror_mode": {
    "name": "ipython",
    "version": 3
   },
   "file_extension": ".py",
   "mimetype": "text/x-python",
   "name": "python",
   "nbconvert_exporter": "python",
   "pygments_lexer": "ipython3",
   "version": "3.10.12"
  }
 },
 "nbformat": 4,
 "nbformat_minor": 2
}
