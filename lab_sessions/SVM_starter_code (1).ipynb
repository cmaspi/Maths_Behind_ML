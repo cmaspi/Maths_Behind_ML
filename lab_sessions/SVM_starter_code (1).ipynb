{
  "nbformat": 4,
  "nbformat_minor": 0,
  "metadata": {
    "colab": {
      "provenance": []
    },
    "kernelspec": {
      "name": "python3",
      "display_name": "Python 3"
    },
    "language_info": {
      "name": "python"
    }
  },
  "cells": [
    {
      "cell_type": "code",
      "source": [
        "import numpy as np\n",
        "import matplotlib.pyplot as plt\n"
      ],
      "metadata": {
        "id": "EHCQNfLhgAsc"
      },
      "execution_count": null,
      "outputs": []
    },
    {
      "cell_type": "markdown",
      "source": [
        "# SVM - standard"
      ],
      "metadata": {
        "id": "r5Zb5cHOgpWc"
      }
    },
    {
      "cell_type": "markdown",
      "source": [
        "## Generate data (linear separable)\n"
      ],
      "metadata": {
        "id": "mbsd3_ISqZ6n"
      }
    },
    {
      "cell_type": "code",
      "execution_count": null,
      "metadata": {
        "id": "gQPxpQHNd2jQ"
      },
      "outputs": [],
      "source": [
        "# Set random seed for reproducibility\n",
        "np.random.seed(4)\n",
        "\n",
        "# ---- MODIFY ----\n",
        "# Number of points for each category\n",
        "num_points = pass # choose number of points\n",
        "\n",
        "\n",
        "# Generating random points for crosses and circles\n",
        "category1_x = pass # remove pass and add code to generate random points -- check numpy for random points from normal distribution\n",
        "category1_y = pass # add code\n",
        "\n",
        "category2_x = pass # add code\n",
        "category2_y = pass # add code\n",
        "\n",
        "# Plotting the crosses and circles\n",
        "plt.figure(figsize=(8, 6))\n",
        "plt.scatter(category1_x, category1_y, marker='x', color='blue', label='Category 1', s=50)\n",
        "plt.scatter(category2_x, category2_y, marker='o', color='red', label='Category 2', s=50)\n",
        "plt.xlabel('X-axis', fontsize=12)\n",
        "plt.ylabel('Y-axis', fontsize=12)\n",
        "plt.title('Linear Separable 2D data', fontsize=15)\n",
        "plt.legend()\n",
        "plt.show()\n"
      ]
    },
    {
      "cell_type": "markdown",
      "source": [
        "## Make data compatible to Fit the model"
      ],
      "metadata": {
        "id": "iLojwnn4jANF"
      }
    },
    {
      "cell_type": "code",
      "source": [
        "# Creating the data and labels\n",
        "X = np.concatenate((np.column_stack((category1_x, category1_y)),\n",
        "                    np.column_stack((category2_x, category2_y))), axis=0)\n",
        "y = np.array([0] * num_points + [1] * num_points)"
      ],
      "metadata": {
        "id": "cgX_WIISgLs0"
      },
      "execution_count": null,
      "outputs": []
    },
    {
      "cell_type": "markdown",
      "source": [
        "## Fitting the Model"
      ],
      "metadata": {
        "id": "Me5Wdm2JjJEz"
      }
    },
    {
      "cell_type": "code",
      "source": [
        "# ---- MODIFY -----\n",
        "# Import svm from scikit learn\n",
        "\n",
        "# Fitting the SVM model\n",
        "svm_classifier = pass # define a linear svm\n",
        "\n",
        "# add code to fit the model"
      ],
      "metadata": {
        "id": "UgNEfox1iO6i"
      },
      "execution_count": null,
      "outputs": []
    },
    {
      "cell_type": "markdown",
      "source": [
        "## Plotting the Decision boundary"
      ],
      "metadata": {
        "id": "5n24mOJFjMpa"
      }
    },
    {
      "cell_type": "code",
      "source": [
        "# Creating a mesh to plot the decision boundary\n",
        "xx, yy = np.meshgrid(np.linspace(0, 8, 100),\n",
        "                     np.linspace(0, 8, 100))\n",
        "Z = svm_classifier.decision_function(np.c_[xx.ravel(), yy.ravel()])\n",
        "Z = Z.reshape(xx.shape)\n",
        "\n",
        "# Plotting the data points, decision boundary, and support vectors\n",
        "plt.figure(figsize=(8, 6))\n",
        "plt.scatter(category1_x, category1_y, marker='x', color='blue', label='Category1', s=50)\n",
        "plt.scatter(category2_x, category2_y, marker='o', color='red', label='Category2', s=50)\n",
        "plt.contour(xx, yy, Z, colors='k', levels=[-1, 0, 1], alpha=0.5, linestyles=['--', '-', '--'])\n",
        "plt.scatter(svm_classifier.support_vectors_[:, 0], svm_classifier.support_vectors_[:, 1], s=50, facecolors='none', edgecolors='k', label='Support Vectors')\n",
        "plt.xlabel('X-axis', fontsize=12)\n",
        "plt.ylabel('Y-axis', fontsize=12)\n",
        "plt.title('SVM with Support Vectors and Decision Boundary', fontsize=15)\n",
        "plt.legend()\n",
        "plt.show()"
      ],
      "metadata": {
        "id": "vV0w9hIJiS9s"
      },
      "execution_count": null,
      "outputs": []
    },
    {
      "cell_type": "markdown",
      "source": [
        "# Soft SVM"
      ],
      "metadata": {
        "id": "VJasqAVvi2zY"
      }
    },
    {
      "cell_type": "markdown",
      "source": [
        "## Fitting the model"
      ],
      "metadata": {
        "id": "uR7KIdeBjVLh"
      }
    },
    {
      "cell_type": "code",
      "source": [
        "# ---- MODIFY -----\n",
        "# Import svm from scikit learn\n",
        "\n",
        "# Fitting the SVM model\n",
        "soft_svm_classifier = pass # define a linear svm, ref svm scikit documentation to look for c\n",
        "\n",
        "# add code to fit the model\n"
      ],
      "metadata": {
        "id": "Dh34oKx2qWmi"
      },
      "execution_count": null,
      "outputs": []
    },
    {
      "cell_type": "markdown",
      "source": [
        "## Plotting the decision boundary"
      ],
      "metadata": {
        "id": "02qzbszVjzbA"
      }
    },
    {
      "cell_type": "code",
      "source": [
        "# Creating a mesh to plot the decision boundary\n",
        "xx, yy = np.meshgrid(np.linspace(0, 8, 100),\n",
        "                     np.linspace(0, 8, 100))\n",
        "Z = soft_svm_classifier.decision_function(np.c_[xx.ravel(), yy.ravel()])\n",
        "Z = Z.reshape(xx.shape)\n",
        "\n",
        "# Plotting the data points, decision boundary, and support vectors\n",
        "plt.figure(figsize=(8, 6))\n",
        "plt.scatter(category1_x, category1_y, marker='x', color='blue', label='Category 1', s=50)\n",
        "plt.scatter(category2_x, category2_y, marker='o', color='red', label='Category 2', s=50)\n",
        "plt.contour(xx, yy, Z, colors='k', levels=[-1, 0, 1], alpha=0.5, linestyles=['--', '-', '--'])\n",
        "plt.scatter(svm_classifier.support_vectors_[:, 0], svm_classifier.support_vectors_[:, 1], s=50, facecolors='none', edgecolors='k', label='Support Vectors')\n",
        "plt.xlabel('X-axis', fontsize=12)\n",
        "plt.ylabel('Y-axis', fontsize=12)\n",
        "plt.title('Soft SVM with Support Vectors and Decision Boundary', fontsize=15)\n",
        "plt.legend()\n",
        "plt.show()"
      ],
      "metadata": {
        "id": "VnHj9yleqepT"
      },
      "execution_count": null,
      "outputs": []
    },
    {
      "cell_type": "markdown",
      "source": [
        "# Kernel SVMs"
      ],
      "metadata": {
        "id": "Lsq-X6lvkMOE"
      }
    },
    {
      "cell_type": "markdown",
      "source": [
        "## Linearly non separable data"
      ],
      "metadata": {
        "id": "5xNo1nMmkPfw"
      }
    },
    {
      "cell_type": "code",
      "source": [
        "# ---- MODIFY ----\n",
        "# Number of points for each category\n",
        "num_points = pass # choos number of points\n",
        "\n",
        "# Set random seed for reproducibility\n",
        "np.random.seed(0)\n",
        "\n",
        "# Generating circular data\n",
        "theta_in = pass # 2 * np.pi * generate random points\n",
        "theta_out = pass # 2 * np.pi * generate random points\n",
        "r1 = pass #2 * generate random points\n",
        "r2 = pass #2 * generate random points + 2.5\n",
        "\n",
        "# done\n",
        "\n",
        "x_in = r1 * np.cos(theta_in)\n",
        "y_in = r1 * np.sin(theta_in)\n",
        "x_out = r2 * np.cos(theta_out)\n",
        "y_out = r2 * np.sin(theta_out)\n"
      ],
      "metadata": {
        "id": "99sWdrFsobxl"
      },
      "execution_count": null,
      "outputs": []
    },
    {
      "cell_type": "markdown",
      "source": [
        "## Making data compatible for model fitting"
      ],
      "metadata": {
        "id": "CW0Zqa30k6dF"
      }
    },
    {
      "cell_type": "code",
      "source": [
        "\n",
        "# Creating the data and labels\n",
        "X_in = np.column_stack((x_in, y_in))\n",
        "X_out = np.column_stack((x_out, y_out))\n",
        "X = np.concatenate((X_in, X_out), axis=0)\n",
        "y = np.array([0] * num_points + [1] * num_points)"
      ],
      "metadata": {
        "id": "-ae_DlgCk4SU"
      },
      "execution_count": null,
      "outputs": []
    },
    {
      "cell_type": "markdown",
      "source": [
        "## Model fitting"
      ],
      "metadata": {
        "id": "dMkrhwtflGpe"
      }
    },
    {
      "cell_type": "code",
      "source": [
        "# ---- MODIFY -----\n",
        "# Import svm from scikit learn\n",
        "\n",
        "# Fitting the SVM model\n",
        "svm_classifier = pass # define a svm try different kernels\n",
        "                      # note different kernels have other parameters as well\n",
        "\n",
        "# add code to fit the model\n"
      ],
      "metadata": {
        "id": "A4FGeULflFRq"
      },
      "execution_count": null,
      "outputs": []
    },
    {
      "cell_type": "code",
      "source": [
        "# Applying the transformation with the RBF kernel\n",
        "x_min, x_max = min(np.min(x_in), np.min(x_out)), max(np.max(x_in), np.max(x_out))\n",
        "y_min, y_max = min(np.min(y_in), np.min(y_out)), max(np.max(y_in), np.max(y_out))\n",
        "\n",
        "X_grid, Y_grid = np.meshgrid(np.linspace(x_min, x_max, num_points), np.linspace(y_min, y_max, num_points))\n",
        "XY = np.vstack([X_grid.ravel(), Y_grid.ravel()]).T\n",
        "Z = svm_classifier.decision_function(XY).reshape(X_grid.shape)\n",
        "\n",
        "# Plotting the points before and after transformation\n",
        "plt.figure(figsize=(12, 5))\n",
        "\n",
        "# Assigning colors to the categories\n",
        "color_map = {0: 'blue', 1: 'red'}\n",
        "\n",
        "plt.subplot(1, 2, 1)\n",
        "plt.scatter(x_in, y_in, color=color_map[0], label='Interior Circle Points', alpha=0.7)\n",
        "plt.scatter(x_out, y_out, color=color_map[1], label='Exterior Circle Points', alpha=0.7)\n",
        "plt.xlim(x_min, x_max)\n",
        "plt.ylim(y_min, y_max)\n",
        "plt.xlabel('X-axis', fontsize=12)\n",
        "plt.ylabel('Y-axis', fontsize=12)\n",
        "plt.title('Original Data Points', fontsize=14)\n",
        "plt.legend()\n",
        "\n",
        "# Plotting the decision boundary\n",
        "plt.subplot(1, 2, 2)\n",
        "plt.scatter(X[:, 0], X[:, 1], c=y, cmap=plt.cm.Paired)\n",
        "plt.contour(X_grid, Y_grid, Z, levels=[0], colors='black')\n",
        "plt.xlim(x_min, x_max)\n",
        "plt.ylim(y_min, y_max)\n",
        "plt.xlabel('X-axis', fontsize=12)\n",
        "plt.ylabel('Y-axis', fontsize=12)\n",
        "plt.title('Kernel SVM with RBF Kernel', fontsize=14)\n",
        "plt.show()\n"
      ],
      "metadata": {
        "id": "s3mL0_UwrsgW"
      },
      "execution_count": null,
      "outputs": []
    },
    {
      "cell_type": "markdown",
      "source": [
        "## Plot the Decision boundary"
      ],
      "metadata": {
        "id": "PIJaC8bilTOD"
      }
    },
    {
      "cell_type": "markdown",
      "source": [
        "# SVM for Image Classification"
      ],
      "metadata": {
        "id": "vwoasgg7qILo"
      }
    },
    {
      "cell_type": "markdown",
      "source": [
        "## SVD on 2d data - but instead of randomly generating we take from digit images"
      ],
      "metadata": {
        "id": "4Vlgcg1c4C6e"
      }
    },
    {
      "cell_type": "code",
      "source": [
        "import numpy as np\n",
        "# --- MODIFY ---\n",
        "# import load digits dataset from scikit learn\n",
        "# import multi dimensional scaling\n",
        "# import svm\n",
        "\n",
        "import matplotlib.pyplot as plt\n",
        "\n",
        "\n",
        "# Load the digits dataset\n",
        "digits = pass # add code to load digits\n",
        "X, y = digits.data, digits.target\n",
        "\n",
        "# Extract only '0' and '1' digits for binary classification and limit the dataset size\n",
        "idx = np.hstack((np.where(y == 7)[0][:20], np.where(y == 1)[0][:20]))\n",
        "X = X[idx]\n",
        "y = y[idx]\n",
        "\n",
        "# --- MODIFY ----\n",
        "# Apply MDS on the dataset\n",
        "mds = pass\n",
        "X_2d = pass # fit mds\n",
        "\n",
        "# Train the SVM model\n",
        "svm_classifier = pass\n",
        "\n",
        "# fit svm with X_2d and y\n",
        "\n",
        "# done\n",
        "\n",
        "# Create a scatter plot with images as points and decision boundary\n",
        "fig, ax = plt.subplots(figsize=(8, 6))\n",
        "img_side = 2\n",
        "for i, (image, target) in enumerate(zip(X_2d, y)):\n",
        "    if target == 0:\n",
        "        ax.imshow(X[i].reshape(8, 8), extent=(image[0] - img_side, image[0] + img_side, image[1] - img_side, image[1] + img_side), cmap='binary', alpha=0.7)\n",
        "    else:\n",
        "        ax.imshow(X[i].reshape(8, 8), extent=(image[0] - img_side, image[0] + img_side, image[1] - img_side, image[1] + img_side), cmap='binary', alpha=0.7)\n",
        "\n",
        "# Get the separating hyperplane\n",
        "w = svm_classifier.coef_[0]\n",
        "a = -w[0] / w[1]\n",
        "xx = np.linspace(-50, 50)\n",
        "yy = a * xx - (svm_classifier.intercept_[0]) / w[1]\n",
        "\n",
        "# Plot the decision boundary\n",
        "plt.plot(xx, yy, 'k-')\n",
        "ax.set_xlim(-50, 50)\n",
        "ax.set_ylim(-50, 50)\n",
        "ax.set_xlabel('MDS Dimension 1')\n",
        "ax.set_ylabel('MDS Dimension 2')\n",
        "ax.set_title('SVM on Digits Images with Decision Boundary')\n",
        "plt.show()\n"
      ],
      "metadata": {
        "id": "gB99VbOHt9Ps"
      },
      "execution_count": null,
      "outputs": []
    },
    {
      "cell_type": "markdown",
      "source": [
        "## Digit image classification using SVD"
      ],
      "metadata": {
        "id": "m1iqa8Pr4RKe"
      }
    },
    {
      "cell_type": "code",
      "source": [
        "import numpy as np\n",
        "import matplotlib.pyplot as plt\n",
        "\n",
        "# --- MODIFY ---\n",
        "# import digits dataset from scikit\n",
        "# import methods for svm\n",
        "\n",
        "from sklearn.model_selection import train_test_split\n",
        "from sklearn.metrics import classification_report, confusion_matrix\n",
        "np.random.seed(0)\n",
        "\n",
        "# Load the digits dataset\n",
        "digits = pass\n",
        "X, y = digits.data, digits.target\n",
        "\n",
        "# Split the dataset into training and testing sets\n",
        "X_train, X_test, y_train, y_test = train_test_split(X, y, test_size=0.2, random_state=42)\n",
        "\n",
        "\n",
        "# --- MODIFY ---\n",
        "# Train the SVM classifier\n",
        "svm_classifier = pass # add code\n",
        "\n",
        "# fit SVM\n",
        "\n",
        "# Predict on the test data, X_test using svm_classifier\n",
        "y_pred = pass\n",
        "\n",
        "#####################################\n",
        "# done\n",
        "# check accuracy\n",
        "# try with different kernels\n",
        "####################################\n",
        "\n",
        "\n",
        "# Evaluation\n",
        "print(\"Classification Report:\")\n",
        "print(classification_report(y_test, y_pred))\n",
        "print(\"Confusion Matrix:\")\n",
        "print(confusion_matrix(y_test, y_pred))\n",
        "\n",
        "# Visualize some of the test results\n",
        "fig, axes = plt.subplots(3, 3, figsize=(8, 8))\n",
        "for i, ax in enumerate(axes.flat):\n",
        "    ax.imshow(X_test[i].reshape(8, 8), cmap='gray')\n",
        "    ax.set_title(f\"True:{y_test[i]}, Predicted:{y_pred[i]}\")\n",
        "    ax.axis('off')\n",
        "plt.show()\n"
      ],
      "metadata": {
        "id": "-lamR2Umn4HH"
      },
      "execution_count": null,
      "outputs": []
    },
    {
      "cell_type": "markdown",
      "source": [
        "# Face image classification on lfw people dataset"
      ],
      "metadata": {
        "id": "pcm7srDB5HaL"
      }
    },
    {
      "cell_type": "code",
      "source": [
        "import numpy as np\n",
        "import matplotlib.pyplot as plt\n",
        "\n",
        "# --- MODIFY ---\n",
        "# fetch lfw people dataset from scikit learn\n",
        "# import svm method\n",
        "\n",
        "from sklearn.model_selection import train_test_split\n",
        "from sklearn.metrics import classification_report, confusion_matrix\n",
        "\n",
        "# Load the faces dataset\n",
        "faces = pass # load the images\n",
        "X, y = faces.data, faces.target\n",
        "\n",
        "# Select only two classes for binary classification\n",
        "class_mask = np.isin(y, [0, 1])\n",
        "X = X[class_mask]\n",
        "y = y[class_mask]\n",
        "\n",
        "# Balance the dataset through undersampling\n",
        "class_0_indices = np.where(y == 0)[0]\n",
        "class_1_indices = np.where(y == 1)[0]\n",
        "num_samples = min(len(class_0_indices), len(class_1_indices))\n",
        "balanced_indices = np.concatenate([class_0_indices[:num_samples], class_1_indices[:num_samples]])\n",
        "X = X[balanced_indices]\n",
        "y = y[balanced_indices]\n",
        "\n",
        "# Split the dataset into training and testing sets\n",
        "X_train, X_test, y_train, y_test = train_test_split(X, y, test_size=0.2, random_state=42)\n",
        "\n",
        "\n",
        "# Train the SVM classifier\n",
        "svm_classifier = pass # add svm\n",
        "\n",
        "# fit svm\n",
        "\n",
        "# Predict on the test data\n",
        "y_pred = pass\n",
        "\n",
        "#####################################\n",
        "# done\n",
        "# check accuracy\n",
        "# try with different kernels\n",
        "####################################\n",
        "\n",
        "# Evaluation\n",
        "print(\"Classification Report:\")\n",
        "print(classification_report(y_test, y_pred, zero_division=1))\n",
        "print(\"Confusion Matrix:\")\n",
        "print(confusion_matrix(y_test, y_pred))\n",
        "\n",
        "# Visualize some of the test results\n",
        "fig, axes = plt.subplots(3, 3, figsize=(8, 8))\n",
        "for i, ax in enumerate(axes.flat):\n",
        "    ax.imshow(X_test[i].reshape(faces.images.shape[1], faces.images.shape[2]), cmap='bone')\n",
        "    ax.set_title(f\"True:{y_test[i]}, Predicted:{y_pred[i]}\")\n",
        "    ax.axis('off')\n",
        "plt.show()\n"
      ],
      "metadata": {
        "id": "UHj40BXTwXPr"
      },
      "execution_count": null,
      "outputs": []
    },
    {
      "cell_type": "code",
      "source": [],
      "metadata": {
        "id": "W7ywBv41yG7u"
      },
      "execution_count": null,
      "outputs": []
    }
  ]
}